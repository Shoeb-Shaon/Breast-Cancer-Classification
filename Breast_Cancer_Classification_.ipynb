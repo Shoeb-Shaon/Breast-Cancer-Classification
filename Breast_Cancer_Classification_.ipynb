{
  "nbformat": 4,
  "nbformat_minor": 0,
  "metadata": {
    "colab": {
      "name": "Breast  Cancer Classification .ipynb",
      "provenance": [],
      "collapsed_sections": [],
      "authorship_tag": "ABX9TyM7HIVbea3OO5QPK7bdUZxq"
    },
    "kernelspec": {
      "name": "python3",
      "display_name": "Python 3"
    },
    "language_info": {
      "name": "python"
    }
  },
  "cells": [
    {
      "cell_type": "markdown",
      "source": [
        "# Loading and preprocesing"
      ],
      "metadata": {
        "id": "UNoexj8UqPPs"
      }
    },
    {
      "cell_type": "markdown",
      "source": [
        "Importing libraries"
      ],
      "metadata": {
        "id": "a98c-mhD-cY2"
      }
    },
    {
      "cell_type": "code",
      "source": [
        "import numpy as np\n",
        "import matplotlib.pyplot as plt\n",
        "import os\n",
        "import math\n",
        "import shutil\n",
        "import glob\n",
        "import keras\n",
        "from keras.layers import Conv2D, MaxPool2D, Dropout, Flatten, Dense, BatchNormalization, GlobalAvgPool2D\n",
        "from keras.models import Sequential\n",
        "from keras.preprocessing.image import ImageDataGenerator\n",
        "import keras\n",
        "import matplotlib.pyplot as plt\n",
        "from keras.preprocessing import image\n",
        "from keras_preprocessing.image import load_img, img_to_array\n",
        "from keras.preprocessing.image import ImageDataGenerator\n",
        "from keras.applications.mobilenet import preprocess_input\n",
        "from keras.models import Model, load_model\n",
        "from keras.applications.mobilenet import MobileNet"
      ],
      "metadata": {
        "id": "-1g-SI3ZpcIF"
      },
      "execution_count": 85,
      "outputs": []
    },
    {
      "cell_type": "code",
      "source": [
        "root_dir=\"/content/drive/MyDrive/Thesis resources/Datasets/dataset'/Mini_DDSM_Upload\"\n",
        "number_of_images={}\n",
        "for dir in os.listdir(root_dir):\n",
        "  number_of_images[dir]=len(os.listdir(os.path.join(root_dir,dir)))"
      ],
      "metadata": {
        "id": "CVrG5qFB6Ye-"
      },
      "execution_count": 86,
      "outputs": []
    },
    {
      "cell_type": "markdown",
      "source": [
        "Creating Traning Folder"
      ],
      "metadata": {
        "id": "VnOL3Nns-S1G"
      }
    },
    {
      "cell_type": "code",
      "source": [
        "\n",
        "def dataFolder(p,split):\n",
        "  if not os.path.exists(\"/content/drive/MyDrive/\"+p):\n",
        "    os.mkdir(\"/content/drive/MyDrive/\"+p)\n",
        "    for dir in os.listdir(root_dir):\n",
        "      os.makedirs(\"/content/drive/MyDrive/\"+p+\"/\"+dir)\n",
        "      for img in np.random.choice(a=os.listdir(os.path.join(root_dir,dir)),size=(math.floor(split*number_of_images[dir])-5),replace=False):\n",
        "        O=os.path.join(root_dir,dir,img)\n",
        "        D=os.path.join(\"/content/drive/MyDrive/\"+p,dir)\n",
        "        shutil.copy(O,D)\n",
        "        os.remove(O)\n",
        "  else:\n",
        "    print(f\"{p} Folder exist\")"
      ],
      "metadata": {
        "id": "wen9yrBIvd2J"
      },
      "execution_count": 87,
      "outputs": []
    },
    {
      "cell_type": "code",
      "source": [
        "dataFolder(\"thesis_train\",0.7)\n",
        "dataFolder(\"thesis_test\",0.15)\n",
        "dataFolder(\"thesis_val\",0.15)"
      ],
      "metadata": {
        "colab": {
          "base_uri": "https://localhost:8080/"
        },
        "id": "yYlsMNJv-pKW",
        "outputId": "9e2c8e10-9731-4dff-f4ee-1d688343985f"
      },
      "execution_count": 88,
      "outputs": [
        {
          "output_type": "stream",
          "name": "stdout",
          "text": [
            "thesis_train Folder exist\n",
            "thesis_test Folder exist\n",
            "thesis_val Folder exist\n"
          ]
        }
      ]
    },
    {
      "cell_type": "code",
      "source": [
        "root_dir=\"/content/drive/MyDrive/Thesis resources/Datasets/dataset'/Mini_DDSM_Upload\"\n",
        "number_of_images={}\n",
        "for dir in os.listdir(root_dir):\n",
        "  number_of_images[dir]=len(os.listdir(os.path.join(root_dir,dir)))\n",
        "number_of_images.items()"
      ],
      "metadata": {
        "colab": {
          "base_uri": "https://localhost:8080/"
        },
        "id": "_5kuVfMj-p3Q",
        "outputId": "2c5337d6-8713-4c01-9962-98da290cf54e"
      },
      "execution_count": 89,
      "outputs": [
        {
          "output_type": "execute_result",
          "data": {
            "text/plain": [
              "dict_items([('Normal', 16), ('Cancer', 16), ('Benign', 16)])"
            ]
          },
          "metadata": {},
          "execution_count": 89
        }
      ]
    },
    {
      "cell_type": "markdown",
      "source": [
        "# Basic CNN model"
      ],
      "metadata": {
        "id": "0h7PzQL-ABls"
      }
    },
    {
      "cell_type": "code",
      "source": [
        "#CNN Model\n",
        "model= Sequential()\n",
        "model.add(Conv2D(filters=16,kernel_size=(3,3), activation= 'relu', input_shape=(224,224,3)))\n",
        "\n",
        "model.add(Conv2D(filters=32,kernel_size=(3,3), activation= 'relu'))\n",
        "model.add(MaxPool2D(pool_size=(2,2)))\n",
        "\n",
        "model.add(Conv2D(filters=64,kernel_size=(3,3), activation= 'relu'))\n",
        "model.add(MaxPool2D(pool_size=(2,2)))\n",
        "\n",
        "model.add(Conv2D(filters=128,kernel_size=(3,3), activation= 'relu'))\n",
        "model.add(MaxPool2D(pool_size=(2,2)))\n",
        "\n",
        "model.add(Dropout(rate=0.25))\n",
        "\n",
        "model.add(Flatten())\n",
        "model.add(Dense(units=64, activation= 'relu'))\n",
        "model.add(Dense(units=1, activation='sigmoid'))\n",
        "model.summary()"
      ],
      "metadata": {
        "colab": {
          "base_uri": "https://localhost:8080/"
        },
        "id": "2klRHJphAHW-",
        "outputId": "ac04d86b-68f7-47a5-c7c3-879a73ea10d4"
      },
      "execution_count": 90,
      "outputs": [
        {
          "output_type": "stream",
          "name": "stdout",
          "text": [
            "Model: \"sequential_2\"\n",
            "_________________________________________________________________\n",
            " Layer (type)                Output Shape              Param #   \n",
            "=================================================================\n",
            " conv2d_8 (Conv2D)           (None, 222, 222, 16)      448       \n",
            "                                                                 \n",
            " conv2d_9 (Conv2D)           (None, 220, 220, 32)      4640      \n",
            "                                                                 \n",
            " max_pooling2d_6 (MaxPooling  (None, 110, 110, 32)     0         \n",
            " 2D)                                                             \n",
            "                                                                 \n",
            " conv2d_10 (Conv2D)          (None, 108, 108, 64)      18496     \n",
            "                                                                 \n",
            " max_pooling2d_7 (MaxPooling  (None, 54, 54, 64)       0         \n",
            " 2D)                                                             \n",
            "                                                                 \n",
            " conv2d_11 (Conv2D)          (None, 52, 52, 128)       73856     \n",
            "                                                                 \n",
            " max_pooling2d_8 (MaxPooling  (None, 26, 26, 128)      0         \n",
            " 2D)                                                             \n",
            "                                                                 \n",
            " dropout_2 (Dropout)         (None, 26, 26, 128)       0         \n",
            "                                                                 \n",
            " flatten_3 (Flatten)         (None, 86528)             0         \n",
            "                                                                 \n",
            " dense_5 (Dense)             (None, 64)                5537856   \n",
            "                                                                 \n",
            " dense_6 (Dense)             (None, 1)                 65        \n",
            "                                                                 \n",
            "=================================================================\n",
            "Total params: 5,635,361\n",
            "Trainable params: 5,635,361\n",
            "Non-trainable params: 0\n",
            "_________________________________________________________________\n"
          ]
        }
      ]
    },
    {
      "cell_type": "markdown",
      "source": [
        ""
      ],
      "metadata": {
        "id": "xp8-tOT__-oN"
      }
    },
    {
      "cell_type": "code",
      "source": [
        "model.compile(optimizer='adam',loss=keras.losses.binary_crossentropy, metrics=['accuracy'])"
      ],
      "metadata": {
        "id": "llAbzdkjAK2U"
      },
      "execution_count": 91,
      "outputs": []
    },
    {
      "cell_type": "code",
      "source": [
        "def preprocessingImages1(path):\n",
        "  image_data=ImageDataGenerator(zoom_range=0.2,shear_range=0.2, rescale=1/255, horizontal_flip=True)\n",
        "  image= image_data.flow_from_directory(directory=path, target_size=(224,224), batch_size=32, class_mode= 'binary')\n",
        "\n",
        "  return image "
      ],
      "metadata": {
        "id": "3Rvds5boAOvu"
      },
      "execution_count": 92,
      "outputs": []
    },
    {
      "cell_type": "code",
      "source": [
        "path=\"/content/drive/MyDrive/thesis_train\"\n",
        "train_data= preprocessingImages1(path)"
      ],
      "metadata": {
        "colab": {
          "base_uri": "https://localhost:8080/"
        },
        "id": "bFY9pLFPCNDu",
        "outputId": "5e5cd08d-9d24-4d4c-9602-bf9479f379fd"
      },
      "execution_count": 93,
      "outputs": [
        {
          "output_type": "stream",
          "name": "stdout",
          "text": [
            "Found 6772 images belonging to 3 classes.\n"
          ]
        }
      ]
    },
    {
      "cell_type": "code",
      "source": [
        "def preprocessingImages2(path):\n",
        "  image_data=ImageDataGenerator(rescale=1/255)\n",
        "  image= image_data.flow_from_directory(directory=path, target_size=(224,224), batch_size=32, class_mode= 'binary')\n",
        "\n",
        "  return image "
      ],
      "metadata": {
        "id": "57FWU1iyDjLi"
      },
      "execution_count": 94,
      "outputs": []
    },
    {
      "cell_type": "code",
      "source": [
        "path=\"/content/drive/MyDrive/thesis_test\"\n",
        "test_data= preprocessingImages2(path)"
      ],
      "metadata": {
        "colab": {
          "base_uri": "https://localhost:8080/"
        },
        "id": "5z5-3bXgDkIT",
        "outputId": "32dfb9a8-bcb3-4881-cd11-3fdfb7a2a31b"
      },
      "execution_count": 95,
      "outputs": [
        {
          "output_type": "stream",
          "name": "stdout",
          "text": [
            "Found 1439 images belonging to 3 classes.\n"
          ]
        }
      ]
    },
    {
      "cell_type": "code",
      "source": [
        "path=\"/content/drive/MyDrive/thesis_val\"\n",
        "val_data= preprocessingImages2(path)"
      ],
      "metadata": {
        "colab": {
          "base_uri": "https://localhost:8080/"
        },
        "id": "btQhh1C5D0m8",
        "outputId": "a3f25177-c4b3-4001-f2dc-174e7460f992"
      },
      "execution_count": 96,
      "outputs": [
        {
          "output_type": "stream",
          "name": "stdout",
          "text": [
            "Found 1439 images belonging to 3 classes.\n"
          ]
        }
      ]
    },
    {
      "cell_type": "code",
      "source": [
        "# early stopping and model check point\n",
        "from keras.callbacks import ModelCheckpoint, EarlyStopping\n",
        "\n",
        "#Early stopping\n",
        "es=EarlyStopping (monitor=\"val_accuracy\",min_delta=0.01, patience=6, verbose=1, mode='auto')\n",
        "\n",
        "#model check point\n",
        "mc= ModelCheckpoint(monitor=\"val_accuracy\",filepath=\"/content/drive/MyDrive/Thesis work/bmodel.h5\",verbose=1, save_best_only=True, mode='auto')\n",
        "cd=[es,mc]\n"
      ],
      "metadata": {
        "id": "PA_gnZdQD4zZ"
      },
      "execution_count": 97,
      "outputs": []
    },
    {
      "cell_type": "markdown",
      "source": [
        "Model traning"
      ],
      "metadata": {
        "id": "oYlYUf-LD61S"
      }
    },
    {
      "cell_type": "code",
      "source": [
        "# model Training\n",
        "hs=model.fit_generator(generator=train_data, steps_per_epoch=8, epochs=30, verbose=1, validation_data=val_data, validation_steps=16, callbacks=cd )"
      ],
      "metadata": {
        "colab": {
          "base_uri": "https://localhost:8080/"
        },
        "id": "lOtzTzKbD6XW",
        "outputId": "475157b4-e360-4bd2-fdd4-4907d1b354e4"
      },
      "execution_count": 98,
      "outputs": [
        {
          "output_type": "stream",
          "name": "stderr",
          "text": [
            "/usr/local/lib/python3.7/dist-packages/ipykernel_launcher.py:2: UserWarning: `Model.fit_generator` is deprecated and will be removed in a future version. Please use `Model.fit`, which supports generators.\n",
            "  \n"
          ]
        },
        {
          "output_type": "stream",
          "name": "stdout",
          "text": [
            "Epoch 1/30\n",
            "8/8 [==============================] - ETA: 0s - loss: 0.5696 - accuracy: 0.3906\n",
            "Epoch 1: val_accuracy improved from -inf to 0.36719, saving model to /content/drive/MyDrive/Thesis work/bmodel.h5\n",
            "8/8 [==============================] - 44s 6s/step - loss: 0.5696 - accuracy: 0.3906 - val_loss: 0.0168 - val_accuracy: 0.3672\n",
            "Epoch 2/30\n",
            "8/8 [==============================] - ETA: 0s - loss: 0.1940 - accuracy: 0.3906\n",
            "Epoch 2: val_accuracy improved from 0.36719 to 0.37109, saving model to /content/drive/MyDrive/Thesis work/bmodel.h5\n",
            "8/8 [==============================] - 43s 6s/step - loss: 0.1940 - accuracy: 0.3906 - val_loss: 0.0291 - val_accuracy: 0.3711\n",
            "Epoch 3/30\n",
            "8/8 [==============================] - ETA: 0s - loss: 0.1440 - accuracy: 0.4180 \n",
            "Epoch 3: val_accuracy did not improve from 0.37109\n",
            "8/8 [==============================] - 42s 5s/step - loss: 0.1440 - accuracy: 0.4180 - val_loss: -0.1652 - val_accuracy: 0.3457\n",
            "Epoch 4/30\n",
            "8/8 [==============================] - ETA: 0s - loss: -0.2795 - accuracy: 0.3438\n",
            "Epoch 4: val_accuracy did not improve from 0.37109\n",
            "8/8 [==============================] - 41s 5s/step - loss: -0.2795 - accuracy: 0.3438 - val_loss: -0.3840 - val_accuracy: 0.3574\n",
            "Epoch 5/30\n",
            "8/8 [==============================] - ETA: 0s - loss: -0.5131 - accuracy: 0.3320\n",
            "Epoch 5: val_accuracy improved from 0.37109 to 0.38281, saving model to /content/drive/MyDrive/Thesis work/bmodel.h5\n",
            "8/8 [==============================] - 42s 5s/step - loss: -0.5131 - accuracy: 0.3320 - val_loss: -0.2847 - val_accuracy: 0.3828\n",
            "Epoch 6/30\n",
            "8/8 [==============================] - ETA: 0s - loss: -1.4678 - accuracy: 0.3555\n",
            "Epoch 6: val_accuracy did not improve from 0.38281\n",
            "8/8 [==============================] - 42s 5s/step - loss: -1.4678 - accuracy: 0.3555 - val_loss: -3.1179 - val_accuracy: 0.3770\n",
            "Epoch 7/30\n",
            "8/8 [==============================] - ETA: 0s - loss: 1.5396 - accuracy: 0.2812\n",
            "Epoch 7: val_accuracy did not improve from 0.38281\n",
            "8/8 [==============================] - 43s 6s/step - loss: 1.5396 - accuracy: 0.2812 - val_loss: -3.6366 - val_accuracy: 0.3652\n",
            "Epoch 8/30\n",
            "8/8 [==============================] - ETA: 0s - loss: -7.2967 - accuracy: 0.3906 \n",
            "Epoch 8: val_accuracy improved from 0.38281 to 0.39062, saving model to /content/drive/MyDrive/Thesis work/bmodel.h5\n",
            "8/8 [==============================] - 44s 6s/step - loss: -7.2967 - accuracy: 0.3906 - val_loss: -27.8239 - val_accuracy: 0.3906\n",
            "Epoch 9/30\n",
            "8/8 [==============================] - ETA: 0s - loss: -6.6802 - accuracy: 0.3906\n",
            "Epoch 9: val_accuracy did not improve from 0.39062\n",
            "8/8 [==============================] - 42s 6s/step - loss: -6.6802 - accuracy: 0.3906 - val_loss: -22.0720 - val_accuracy: 0.3613\n",
            "Epoch 10/30\n",
            "8/8 [==============================] - ETA: 0s - loss: -39.1009 - accuracy: 0.3906\n",
            "Epoch 10: val_accuracy did not improve from 0.39062\n",
            "8/8 [==============================] - 41s 5s/step - loss: -39.1009 - accuracy: 0.3906 - val_loss: -69.1414 - val_accuracy: 0.3809\n",
            "Epoch 11/30\n",
            "8/8 [==============================] - ETA: 0s - loss: 38.1035 - accuracy: 0.3320 \n",
            "Epoch 11: val_accuracy did not improve from 0.39062\n",
            "8/8 [==============================] - 41s 5s/step - loss: 38.1035 - accuracy: 0.3320 - val_loss: -86.2519 - val_accuracy: 0.3691\n",
            "Epoch 11: early stopping\n"
          ]
        }
      ]
    },
    {
      "cell_type": "code",
      "source": [
        "h=hs.history\n",
        "h.keys()"
      ],
      "metadata": {
        "colab": {
          "base_uri": "https://localhost:8080/"
        },
        "id": "kvGR7uhzKARn",
        "outputId": "be42c459-9c53-4fd8-df9c-fff99ffcab29"
      },
      "execution_count": 99,
      "outputs": [
        {
          "output_type": "execute_result",
          "data": {
            "text/plain": [
              "dict_keys(['loss', 'accuracy', 'val_loss', 'val_accuracy'])"
            ]
          },
          "metadata": {},
          "execution_count": 99
        }
      ]
    },
    {
      "cell_type": "code",
      "source": [
        "plt.plot(h['accuracy'])\n",
        "plt.plot(h['val_accuracy'], c=\"red\")\n",
        "\n",
        "plt.title(\"Acc VS Val_acc\")\n",
        "plt.show()"
      ],
      "metadata": {
        "colab": {
          "base_uri": "https://localhost:8080/",
          "height": 281
        },
        "id": "wkcuIfzwKA8G",
        "outputId": "d0536fed-980c-45d1-d149-a4f83236cc89"
      },
      "execution_count": 100,
      "outputs": [
        {
          "output_type": "display_data",
          "data": {
            "text/plain": [
              "<Figure size 432x288 with 1 Axes>"
            ],
            "image/png": "[encoded data removed]"
          },
          "metadata": {
            "needs_background": "light"
          }
        }
      ]
    },
    {
      "cell_type": "code",
      "source": [
        "plt.plot(h['loss'])\n",
        "plt.plot(h['val_accuracy'], c=\"red\")\n",
        "\n",
        "plt.title(\"loss VS Val_loss\")\n",
        "plt.show()"
      ],
      "metadata": {
        "colab": {
          "base_uri": "https://localhost:8080/",
          "height": 281
        },
        "id": "v93sMl8HKCR1",
        "outputId": "1311a719-6ccf-49bd-c814-c3b8473e3c61"
      },
      "execution_count": 101,
      "outputs": [
        {
          "output_type": "display_data",
          "data": {
            "text/plain": [
              "<Figure size 432x288 with 1 Axes>"
            ],
            "image/png": "[encoded data removed]"
          },
          "metadata": {
            "needs_background": "light"
          }
        }
      ]
    },
    {
      "cell_type": "markdown",
      "source": [
        "loading model"
      ],
      "metadata": {
        "id": "OJsGY-rZZAu3"
      }
    },
    {
      "cell_type": "code",
      "source": [
        "\n",
        "from keras.models import load_model\n",
        "mdl= load_model(\"/content/drive/MyDrive/Thesis work/bmodel.h5\")"
      ],
      "metadata": {
        "id": "8NGSoIHAY6zk"
      },
      "execution_count": 102,
      "outputs": []
    },
    {
      "cell_type": "markdown",
      "source": [
        "Model accuracy"
      ],
      "metadata": {
        "id": "fWtQvV0vZJhF"
      }
    },
    {
      "cell_type": "code",
      "source": [
        "acc=mdl.evaluate_generator(test_data)[1]\n",
        "print(f\"The accuracy of our model is {acc*100}%\")"
      ],
      "metadata": {
        "colab": {
          "base_uri": "https://localhost:8080/"
        },
        "id": "VovcVirsY-oS",
        "outputId": "0913c741-2540-4e3d-fc8f-345dc336fa23"
      },
      "execution_count": 103,
      "outputs": [
        {
          "output_type": "stream",
          "name": "stderr",
          "text": [
            "/usr/local/lib/python3.7/dist-packages/ipykernel_launcher.py:1: UserWarning: `Model.evaluate_generator` is deprecated and will be removed in a future version. Please use `Model.evaluate`, which supports generators.\n",
            "  \"\"\"Entry point for launching an IPython kernel.\n"
          ]
        },
        {
          "output_type": "stream",
          "name": "stdout",
          "text": [
            "The accuracy of our model is 37.10910379886627%\n"
          ]
        }
      ]
    },
    {
      "cell_type": "code",
      "source": [
        "def preprocessingImages1(path):\n",
        "  image_data=ImageDataGenerator(zoom_range=0.2,shear_range=0.2, rescale=1/255, horizontal_flip=True)\n",
        "  image= image_data.flow_from_directory(directory=path, target_size=(224,224), batch_size=32, class_mode= 'binary')\n",
        "\n",
        "  return image "
      ],
      "metadata": {
        "id": "2KY1XqeRZYLs"
      },
      "execution_count": 104,
      "outputs": []
    },
    {
      "cell_type": "code",
      "source": [
        "path=\"/content/drive/MyDrive/thesis_train\"\n",
        "train_data= preprocessingImages1(path)"
      ],
      "metadata": {
        "colab": {
          "base_uri": "https://localhost:8080/"
        },
        "id": "EITXq3mXZZub",
        "outputId": "b70ad5ae-27e5-4adf-b38f-5d5fd1ce6232"
      },
      "execution_count": 105,
      "outputs": [
        {
          "output_type": "stream",
          "name": "stdout",
          "text": [
            "Found 6772 images belonging to 3 classes.\n"
          ]
        }
      ]
    },
    {
      "cell_type": "code",
      "source": [
        "def preprocessingImages2(path):\n",
        "  image_data=ImageDataGenerator(preprocessing_function=preprocess_input)\n",
        "  image= image_data.flow_from_directory(directory=path, target_size=(224,224), batch_size=32, class_mode= 'binary')\n",
        "  return image"
      ],
      "metadata": {
        "id": "T46E3yaoZb1O"
      },
      "execution_count": 106,
      "outputs": []
    },
    {
      "cell_type": "code",
      "source": [
        "path=\"/content/drive/MyDrive/thesis_test\"\n",
        "test_data= preprocessingImages2(path)"
      ],
      "metadata": {
        "colab": {
          "base_uri": "https://localhost:8080/"
        },
        "id": "uISowkKSZdPE",
        "outputId": "96dd80f4-920d-48fc-87af-32b8554ecdbe"
      },
      "execution_count": 107,
      "outputs": [
        {
          "output_type": "stream",
          "name": "stdout",
          "text": [
            "Found 1439 images belonging to 3 classes.\n"
          ]
        }
      ]
    },
    {
      "cell_type": "code",
      "source": [
        "path=\"/content/drive/MyDrive/thesis_val\"\n",
        "val_data= preprocessingImages2(path)"
      ],
      "metadata": {
        "colab": {
          "base_uri": "https://localhost:8080/"
        },
        "id": "Gyx8k4XzZeh-",
        "outputId": "89523673-a6e8-48d7-80cf-c272d86a3038"
      },
      "execution_count": 108,
      "outputs": [
        {
          "output_type": "stream",
          "name": "stdout",
          "text": [
            "Found 1439 images belonging to 3 classes.\n"
          ]
        }
      ]
    },
    {
      "cell_type": "code",
      "source": [
        "base_model=MobileNet(input_shape=(224,224,3), include_top=False)"
      ],
      "metadata": {
        "id": "4IsL8rjea4UV"
      },
      "execution_count": 109,
      "outputs": []
    },
    {
      "cell_type": "code",
      "source": [
        "for layer in base_model.layers:\n",
        "  layer.trainable= False"
      ],
      "metadata": {
        "id": "92eIjhm4a7aP"
      },
      "execution_count": 110,
      "outputs": []
    },
    {
      "cell_type": "code",
      "source": [
        "X=Flatten()(base_model.output)\n",
        "X=Dense(units=1, activation='sigmoid')(X)\n",
        "\n",
        "model=Model(base_model.input,X)"
      ],
      "metadata": {
        "id": "Ugftmtgya87y"
      },
      "execution_count": 111,
      "outputs": []
    },
    {
      "cell_type": "code",
      "source": [
        "base_model.summary()"
      ],
      "metadata": {
        "colab": {
          "base_uri": "https://localhost:8080/"
        },
        "id": "c_Q40nc2bDBl",
        "outputId": "74bda93c-b220-453c-b08c-7b1b89728f6c"
      },
      "execution_count": 112,
      "outputs": [
        {
          "output_type": "stream",
          "name": "stdout",
          "text": [
            "Model: \"mobilenet_1.00_224\"\n",
            "_________________________________________________________________\n",
            " Layer (type)                Output Shape              Param #   \n",
            "=================================================================\n",
            " input_2 (InputLayer)        [(None, 224, 224, 3)]     0         \n",
            "                                                                 \n",
            " conv1 (Conv2D)              (None, 112, 112, 32)      864       \n",
            "                                                                 \n",
            " conv1_bn (BatchNormalizatio  (None, 112, 112, 32)     128       \n",
            " n)                                                              \n",
            "                                                                 \n",
            " conv1_relu (ReLU)           (None, 112, 112, 32)      0         \n",
            "                                                                 \n",
            " conv_dw_1 (DepthwiseConv2D)  (None, 112, 112, 32)     288       \n",
            "                                                                 \n",
            " conv_dw_1_bn (BatchNormaliz  (None, 112, 112, 32)     128       \n",
            " ation)                                                          \n",
            "                                                                 \n",
            " conv_dw_1_relu (ReLU)       (None, 112, 112, 32)      0         \n",
            "                                                                 \n",
            " conv_pw_1 (Conv2D)          (None, 112, 112, 64)      2048      \n",
            "                                                                 \n",
            " conv_pw_1_bn (BatchNormaliz  (None, 112, 112, 64)     256       \n",
            " ation)                                                          \n",
            "                                                                 \n",
            " conv_pw_1_relu (ReLU)       (None, 112, 112, 64)      0         \n",
            "                                                                 \n",
            " conv_pad_2 (ZeroPadding2D)  (None, 113, 113, 64)      0         \n",
            "                                                                 \n",
            " conv_dw_2 (DepthwiseConv2D)  (None, 56, 56, 64)       576       \n",
            "                                                                 \n",
            " conv_dw_2_bn (BatchNormaliz  (None, 56, 56, 64)       256       \n",
            " ation)                                                          \n",
            "                                                                 \n",
            " conv_dw_2_relu (ReLU)       (None, 56, 56, 64)        0         \n",
            "                                                                 \n",
            " conv_pw_2 (Conv2D)          (None, 56, 56, 128)       8192      \n",
            "                                                                 \n",
            " conv_pw_2_bn (BatchNormaliz  (None, 56, 56, 128)      512       \n",
            " ation)                                                          \n",
            "                                                                 \n",
            " conv_pw_2_relu (ReLU)       (None, 56, 56, 128)       0         \n",
            "                                                                 \n",
            " conv_dw_3 (DepthwiseConv2D)  (None, 56, 56, 128)      1152      \n",
            "                                                                 \n",
            " conv_dw_3_bn (BatchNormaliz  (None, 56, 56, 128)      512       \n",
            " ation)                                                          \n",
            "                                                                 \n",
            " conv_dw_3_relu (ReLU)       (None, 56, 56, 128)       0         \n",
            "                                                                 \n",
            " conv_pw_3 (Conv2D)          (None, 56, 56, 128)       16384     \n",
            "                                                                 \n",
            " conv_pw_3_bn (BatchNormaliz  (None, 56, 56, 128)      512       \n",
            " ation)                                                          \n",
            "                                                                 \n",
            " conv_pw_3_relu (ReLU)       (None, 56, 56, 128)       0         \n",
            "                                                                 \n",
            " conv_pad_4 (ZeroPadding2D)  (None, 57, 57, 128)       0         \n",
            "                                                                 \n",
            " conv_dw_4 (DepthwiseConv2D)  (None, 28, 28, 128)      1152      \n",
            "                                                                 \n",
            " conv_dw_4_bn (BatchNormaliz  (None, 28, 28, 128)      512       \n",
            " ation)                                                          \n",
            "                                                                 \n",
            " conv_dw_4_relu (ReLU)       (None, 28, 28, 128)       0         \n",
            "                                                                 \n",
            " conv_pw_4 (Conv2D)          (None, 28, 28, 256)       32768     \n",
            "                                                                 \n",
            " conv_pw_4_bn (BatchNormaliz  (None, 28, 28, 256)      1024      \n",
            " ation)                                                          \n",
            "                                                                 \n",
            " conv_pw_4_relu (ReLU)       (None, 28, 28, 256)       0         \n",
            "                                                                 \n",
            " conv_dw_5 (DepthwiseConv2D)  (None, 28, 28, 256)      2304      \n",
            "                                                                 \n",
            " conv_dw_5_bn (BatchNormaliz  (None, 28, 28, 256)      1024      \n",
            " ation)                                                          \n",
            "                                                                 \n",
            " conv_dw_5_relu (ReLU)       (None, 28, 28, 256)       0         \n",
            "                                                                 \n",
            " conv_pw_5 (Conv2D)          (None, 28, 28, 256)       65536     \n",
            "                                                                 \n",
            " conv_pw_5_bn (BatchNormaliz  (None, 28, 28, 256)      1024      \n",
            " ation)                                                          \n",
            "                                                                 \n",
            " conv_pw_5_relu (ReLU)       (None, 28, 28, 256)       0         \n",
            "                                                                 \n",
            " conv_pad_6 (ZeroPadding2D)  (None, 29, 29, 256)       0         \n",
            "                                                                 \n",
            " conv_dw_6 (DepthwiseConv2D)  (None, 14, 14, 256)      2304      \n",
            "                                                                 \n",
            " conv_dw_6_bn (BatchNormaliz  (None, 14, 14, 256)      1024      \n",
            " ation)                                                          \n",
            "                                                                 \n",
            " conv_dw_6_relu (ReLU)       (None, 14, 14, 256)       0         \n",
            "                                                                 \n",
            " conv_pw_6 (Conv2D)          (None, 14, 14, 512)       131072    \n",
            "                                                                 \n",
            " conv_pw_6_bn (BatchNormaliz  (None, 14, 14, 512)      2048      \n",
            " ation)                                                          \n",
            "                                                                 \n",
            " conv_pw_6_relu (ReLU)       (None, 14, 14, 512)       0         \n",
            "                                                                 \n",
            " conv_dw_7 (DepthwiseConv2D)  (None, 14, 14, 512)      4608      \n",
            "                                                                 \n",
            " conv_dw_7_bn (BatchNormaliz  (None, 14, 14, 512)      2048      \n",
            " ation)                                                          \n",
            "                                                                 \n",
            " conv_dw_7_relu (ReLU)       (None, 14, 14, 512)       0         \n",
            "                                                                 \n",
            " conv_pw_7 (Conv2D)          (None, 14, 14, 512)       262144    \n",
            "                                                                 \n",
            " conv_pw_7_bn (BatchNormaliz  (None, 14, 14, 512)      2048      \n",
            " ation)                                                          \n",
            "                                                                 \n",
            " conv_pw_7_relu (ReLU)       (None, 14, 14, 512)       0         \n",
            "                                                                 \n",
            " conv_dw_8 (DepthwiseConv2D)  (None, 14, 14, 512)      4608      \n",
            "                                                                 \n",
            " conv_dw_8_bn (BatchNormaliz  (None, 14, 14, 512)      2048      \n",
            " ation)                                                          \n",
            "                                                                 \n",
            " conv_dw_8_relu (ReLU)       (None, 14, 14, 512)       0         \n",
            "                                                                 \n",
            " conv_pw_8 (Conv2D)          (None, 14, 14, 512)       262144    \n",
            "                                                                 \n",
            " conv_pw_8_bn (BatchNormaliz  (None, 14, 14, 512)      2048      \n",
            " ation)                                                          \n",
            "                                                                 \n",
            " conv_pw_8_relu (ReLU)       (None, 14, 14, 512)       0         \n",
            "                                                                 \n",
            " conv_dw_9 (DepthwiseConv2D)  (None, 14, 14, 512)      4608      \n",
            "                                                                 \n",
            " conv_dw_9_bn (BatchNormaliz  (None, 14, 14, 512)      2048      \n",
            " ation)                                                          \n",
            "                                                                 \n",
            " conv_dw_9_relu (ReLU)       (None, 14, 14, 512)       0         \n",
            "                                                                 \n",
            " conv_pw_9 (Conv2D)          (None, 14, 14, 512)       262144    \n",
            "                                                                 \n",
            " conv_pw_9_bn (BatchNormaliz  (None, 14, 14, 512)      2048      \n",
            " ation)                                                          \n",
            "                                                                 \n",
            " conv_pw_9_relu (ReLU)       (None, 14, 14, 512)       0         \n",
            "                                                                 \n",
            " conv_dw_10 (DepthwiseConv2D  (None, 14, 14, 512)      4608      \n",
            " )                                                               \n",
            "                                                                 \n",
            " conv_dw_10_bn (BatchNormali  (None, 14, 14, 512)      2048      \n",
            " zation)                                                         \n",
            "                                                                 \n",
            " conv_dw_10_relu (ReLU)      (None, 14, 14, 512)       0         \n",
            "                                                                 \n",
            " conv_pw_10 (Conv2D)         (None, 14, 14, 512)       262144    \n",
            "                                                                 \n",
            " conv_pw_10_bn (BatchNormali  (None, 14, 14, 512)      2048      \n",
            " zation)                                                         \n",
            "                                                                 \n",
            " conv_pw_10_relu (ReLU)      (None, 14, 14, 512)       0         \n",
            "                                                                 \n",
            " conv_dw_11 (DepthwiseConv2D  (None, 14, 14, 512)      4608      \n",
            " )                                                               \n",
            "                                                                 \n",
            " conv_dw_11_bn (BatchNormali  (None, 14, 14, 512)      2048      \n",
            " zation)                                                         \n",
            "                                                                 \n",
            " conv_dw_11_relu (ReLU)      (None, 14, 14, 512)       0         \n",
            "                                                                 \n",
            " conv_pw_11 (Conv2D)         (None, 14, 14, 512)       262144    \n",
            "                                                                 \n",
            " conv_pw_11_bn (BatchNormali  (None, 14, 14, 512)      2048      \n",
            " zation)                                                         \n",
            "                                                                 \n",
            " conv_pw_11_relu (ReLU)      (None, 14, 14, 512)       0         \n",
            "                                                                 \n",
            " conv_pad_12 (ZeroPadding2D)  (None, 15, 15, 512)      0         \n",
            "                                                                 \n",
            " conv_dw_12 (DepthwiseConv2D  (None, 7, 7, 512)        4608      \n",
            " )                                                               \n",
            "                                                                 \n",
            " conv_dw_12_bn (BatchNormali  (None, 7, 7, 512)        2048      \n",
            " zation)                                                         \n",
            "                                                                 \n",
            " conv_dw_12_relu (ReLU)      (None, 7, 7, 512)         0         \n",
            "                                                                 \n",
            " conv_pw_12 (Conv2D)         (None, 7, 7, 1024)        524288    \n",
            "                                                                 \n",
            " conv_pw_12_bn (BatchNormali  (None, 7, 7, 1024)       4096      \n",
            " zation)                                                         \n",
            "                                                                 \n",
            " conv_pw_12_relu (ReLU)      (None, 7, 7, 1024)        0         \n",
            "                                                                 \n",
            " conv_dw_13 (DepthwiseConv2D  (None, 7, 7, 1024)       9216      \n",
            " )                                                               \n",
            "                                                                 \n",
            " conv_dw_13_bn (BatchNormali  (None, 7, 7, 1024)       4096      \n",
            " zation)                                                         \n",
            "                                                                 \n",
            " conv_dw_13_relu (ReLU)      (None, 7, 7, 1024)        0         \n",
            "                                                                 \n",
            " conv_pw_13 (Conv2D)         (None, 7, 7, 1024)        1048576   \n",
            "                                                                 \n",
            " conv_pw_13_bn (BatchNormali  (None, 7, 7, 1024)       4096      \n",
            " zation)                                                         \n",
            "                                                                 \n",
            " conv_pw_13_relu (ReLU)      (None, 7, 7, 1024)        0         \n",
            "                                                                 \n",
            "=================================================================\n",
            "Total params: 3,228,864\n",
            "Trainable params: 0\n",
            "Non-trainable params: 3,228,864\n",
            "_________________________________________________________________\n"
          ]
        }
      ]
    },
    {
      "cell_type": "code",
      "source": [
        "model.compile(optimizer='rmsprop',loss=keras.losses.binary_crossentropy, metrics=['accuracy'])"
      ],
      "metadata": {
        "id": "2SZkhfsFbDaI"
      },
      "execution_count": 113,
      "outputs": []
    },
    {
      "cell_type": "code",
      "source": [
        "#call back\n",
        "from keras.callbacks import ModelCheckpoint, EarlyStopping\n",
        "#model check point\n",
        "mc=ModelCheckpoint(filepath=\"/content/drive/MyDrive/Thesis work/bemodel.h5\",monitor='val_accuracy',verbose=1, save_best_only=True)\n",
        "# Early Stopping\n",
        "es=EarlyStopping(monitor='val_accuracy',min_delta=0.01,patience=8, verbose=1)\n",
        "cb=[mc,es]"
      ],
      "metadata": {
        "id": "lVq8FddNbJbb"
      },
      "execution_count": 114,
      "outputs": []
    },
    {
      "cell_type": "code",
      "source": [
        "hist=model.fit_generator(train_data,\n",
        "                         steps_per_epoch=8,\n",
        "                         epochs=30,\n",
        "                         validation_data=val_data,\n",
        "                         validation_steps=16,\n",
        "                         callbacks=cb)"
      ],
      "metadata": {
        "colab": {
          "base_uri": "https://localhost:8080/"
        },
        "id": "h2P2YryibMqU",
        "outputId": "d4c98c20-68f8-4b18-e4cd-c1a44fa4681e"
      },
      "execution_count": 115,
      "outputs": [
        {
          "output_type": "stream",
          "name": "stderr",
          "text": [
            "/usr/local/lib/python3.7/dist-packages/ipykernel_launcher.py:6: UserWarning: `Model.fit_generator` is deprecated and will be removed in a future version. Please use `Model.fit`, which supports generators.\n",
            "  \n"
          ]
        },
        {
          "output_type": "stream",
          "name": "stdout",
          "text": [
            "Epoch 1/30\n",
            "8/8 [==============================] - ETA: 0s - loss: -3.7511 - accuracy: 0.3438\n",
            "Epoch 1: val_accuracy improved from -inf to 0.33203, saving model to /content/drive/MyDrive/Thesis work/bemodel.h5\n",
            "8/8 [==============================] - 26s 3s/step - loss: -3.7511 - accuracy: 0.3438 - val_loss: -7.4591 - val_accuracy: 0.3320\n",
            "Epoch 2/30\n",
            "8/8 [==============================] - ETA: 0s - loss: -5.8427 - accuracy: 0.3672\n",
            "Epoch 2: val_accuracy improved from 0.33203 to 0.37500, saving model to /content/drive/MyDrive/Thesis work/bemodel.h5\n",
            "8/8 [==============================] - 23s 3s/step - loss: -5.8427 - accuracy: 0.3672 - val_loss: -7.6728 - val_accuracy: 0.3750\n",
            "Epoch 3/30\n",
            "8/8 [==============================] - ETA: 0s - loss: -16.8658 - accuracy: 0.3320\n",
            "Epoch 3: val_accuracy improved from 0.37500 to 0.39258, saving model to /content/drive/MyDrive/Thesis work/bemodel.h5\n",
            "8/8 [==============================] - 24s 3s/step - loss: -16.8658 - accuracy: 0.3320 - val_loss: -20.1868 - val_accuracy: 0.3926\n",
            "Epoch 4/30\n",
            "8/8 [==============================] - ETA: 0s - loss: -17.3586 - accuracy: 0.4570\n",
            "Epoch 4: val_accuracy did not improve from 0.39258\n",
            "8/8 [==============================] - 22s 3s/step - loss: -17.3586 - accuracy: 0.4570 - val_loss: -21.0590 - val_accuracy: 0.3906\n",
            "Epoch 5/30\n",
            "8/8 [==============================] - ETA: 0s - loss: -24.3842 - accuracy: 0.3438\n",
            "Epoch 5: val_accuracy did not improve from 0.39258\n",
            "8/8 [==============================] - 21s 3s/step - loss: -24.3842 - accuracy: 0.3438 - val_loss: -24.6186 - val_accuracy: 0.3789\n",
            "Epoch 6/30\n",
            "8/8 [==============================] - ETA: 0s - loss: -10.3822 - accuracy: 0.3750\n",
            "Epoch 6: val_accuracy improved from 0.39258 to 0.39453, saving model to /content/drive/MyDrive/Thesis work/bemodel.h5\n",
            "8/8 [==============================] - 22s 3s/step - loss: -10.3822 - accuracy: 0.3750 - val_loss: -16.7460 - val_accuracy: 0.3945\n",
            "Epoch 7/30\n",
            "8/8 [==============================] - ETA: 0s - loss: -49.2137 - accuracy: 0.3203\n",
            "Epoch 7: val_accuracy did not improve from 0.39453\n",
            "8/8 [==============================] - 21s 3s/step - loss: -49.2137 - accuracy: 0.3203 - val_loss: -38.2323 - val_accuracy: 0.3809\n",
            "Epoch 8/30\n",
            "8/8 [==============================] - ETA: 0s - loss: -33.3795 - accuracy: 0.3633\n",
            "Epoch 8: val_accuracy did not improve from 0.39453\n",
            "8/8 [==============================] - 21s 3s/step - loss: -33.3795 - accuracy: 0.3633 - val_loss: -26.6122 - val_accuracy: 0.3867\n",
            "Epoch 9/30\n",
            "8/8 [==============================] - ETA: 0s - loss: -58.1618 - accuracy: 0.4102\n",
            "Epoch 9: val_accuracy did not improve from 0.39453\n",
            "8/8 [==============================] - 21s 3s/step - loss: -58.1618 - accuracy: 0.4102 - val_loss: -51.3189 - val_accuracy: 0.3516\n",
            "Epoch 10/30\n",
            "8/8 [==============================] - ETA: 0s - loss: -42.6643 - accuracy: 0.3711\n",
            "Epoch 10: val_accuracy did not improve from 0.39453\n",
            "8/8 [==============================] - 21s 3s/step - loss: -42.6643 - accuracy: 0.3711 - val_loss: -57.1153 - val_accuracy: 0.3711\n",
            "Epoch 11/30\n",
            "8/8 [==============================] - ETA: 0s - loss: -53.1456 - accuracy: 0.4023\n",
            "Epoch 11: val_accuracy did not improve from 0.39453\n",
            "8/8 [==============================] - 21s 3s/step - loss: -53.1456 - accuracy: 0.4023 - val_loss: -36.8367 - val_accuracy: 0.3926\n",
            "Epoch 11: early stopping\n"
          ]
        }
      ]
    },
    {
      "cell_type": "code",
      "source": [
        "h=hist.history\n",
        "h.keys()"
      ],
      "metadata": {
        "id": "a1uIU4pJbfDz",
        "colab": {
          "base_uri": "https://localhost:8080/"
        },
        "outputId": "0e8de673-2d34-445c-fdf4-c26856361101"
      },
      "execution_count": 116,
      "outputs": [
        {
          "output_type": "execute_result",
          "data": {
            "text/plain": [
              "dict_keys(['loss', 'accuracy', 'val_loss', 'val_accuracy'])"
            ]
          },
          "metadata": {},
          "execution_count": 116
        }
      ]
    },
    {
      "cell_type": "code",
      "source": [
        "plt.plot(h['accuracy'])\n",
        "plt.plot(h['val_accuracy'], c=\"red\")\n",
        "\n",
        "plt.title(\"Acc VS Val_acc\")\n",
        "plt.show()"
      ],
      "metadata": {
        "id": "gyzJv4-_bh-2",
        "colab": {
          "base_uri": "https://localhost:8080/",
          "height": 281
        },
        "outputId": "8d884fc1-8ddc-4057-c9b9-f28c70ae257e"
      },
      "execution_count": 117,
      "outputs": [
        {
          "output_type": "display_data",
          "data": {
            "text/plain": [
              "<Figure size 432x288 with 1 Axes>"
            ],
            "image/png": "[encoded data removed]"
          },
          "metadata": {
            "needs_background": "light"
          }
        }
      ]
    },
    {
      "cell_type": "code",
      "source": [
        "plt.plot(h['loss'])\n",
        "plt.plot(h['val_accuracy'], c=\"red\")\n",
        "\n",
        "plt.title(\"loss VS Val_loss\")\n",
        "plt.show()"
      ],
      "metadata": {
        "id": "XnFcNm3-bjs6",
        "colab": {
          "base_uri": "https://localhost:8080/",
          "height": 281
        },
        "outputId": "de4822c1-af72-4755-d8a7-794911ac1a08"
      },
      "execution_count": 118,
      "outputs": [
        {
          "output_type": "display_data",
          "data": {
            "text/plain": [
              "<Figure size 432x288 with 1 Axes>"
            ],
            "image/png": "[encoded data removed]"
          },
          "metadata": {
            "needs_background": "light"
          }
        }
      ]
    },
    {
      "cell_type": "code",
      "source": [
        "model=load_model(\"/content/drive/MyDrive/Thesis work/bemodel.h5\")"
      ],
      "metadata": {
        "id": "GrGF23rubleI"
      },
      "execution_count": 119,
      "outputs": []
    },
    {
      "cell_type": "code",
      "source": [
        "acc=model.evaluate_generator(test_data)[1]\n",
        "print(f\"our model accuracy is {acc*100}%\")"
      ],
      "metadata": {
        "id": "cG55g-jHbmw4",
        "colab": {
          "base_uri": "https://localhost:8080/"
        },
        "outputId": "ba443cc0-fd3d-4741-8d79-1564fac2be78"
      },
      "execution_count": 120,
      "outputs": [
        {
          "output_type": "stream",
          "name": "stderr",
          "text": [
            "/usr/local/lib/python3.7/dist-packages/ipykernel_launcher.py:1: UserWarning: `Model.evaluate_generator` is deprecated and will be removed in a future version. Please use `Model.evaluate`, which supports generators.\n",
            "  \"\"\"Entry point for launching an IPython kernel.\n"
          ]
        },
        {
          "output_type": "stream",
          "name": "stdout",
          "text": [
            "our model accuracy is 39.541348814964294%\n"
          ]
        }
      ]
    },
    {
      "cell_type": "markdown",
      "source": [
        "### Grad Cam"
      ],
      "metadata": {
        "id": "PqY6dYS8bx44"
      }
    },
    {
      "cell_type": "code",
      "source": [
        "model = load_model(\"/content/drive/MyDrive/Thesis work/bemodel.h5\")"
      ],
      "metadata": {
        "id": "6rZ4ad5Ob4Cs"
      },
      "execution_count": 121,
      "outputs": []
    },
    {
      "cell_type": "code",
      "source": [
        "from tensorflow import keras\n",
        "\n",
        "# Display\n",
        "from IPython.display import Image, display\n",
        "import matplotlib.pyplot as plt\n",
        "import matplotlib.cm as cm"
      ],
      "metadata": {
        "id": "V6szbZXLb7MR"
      },
      "execution_count": 122,
      "outputs": []
    },
    {
      "cell_type": "code",
      "source": [
        "def get_img_array(img_path, size):\n",
        "    # `img` is a PIL image of size 299x299\n",
        "    img = keras.preprocessing.image.load_img(img_path, target_size=size)\n",
        "    # `array` is a float32 Numpy array of shape (299, 299, 3)\n",
        "    array = keras.preprocessing.image.img_to_array(img)\n",
        "    # We add a dimension to transform our array into a \"batch\"\n",
        "    # of size (1, 299, 299, 3)\n",
        "    array = np.expand_dims(array, axis=0)\n",
        "    return array\n",
        "\n",
        "\n",
        "def make_gradcam_heatmap(img_array, model, last_conv_layer_name, pred_index=None):\n",
        "    # First, we create a model that maps the input image to the activations\n",
        "    # of the last conv layer as well as the output predictions\n",
        "    grad_model = tf.keras.models.Model(\n",
        "        [model.inputs], [model.get_layer(last_conv_layer_name).output, model.output]\n",
        "    )\n",
        "\n",
        "    # Then, we compute the gradient of the top predicted class for our input image\n",
        "    # with respect to the activations of the last conv layer\n",
        "    with tf.GradientTape() as tape:\n",
        "        last_conv_layer_output, preds = grad_model(img_array)\n",
        "        if pred_index is None:\n",
        "            pred_index = tf.argmax(preds[0])\n",
        "        class_channel = preds[:, pred_index]\n",
        "\n",
        "    # This is the gradient of the output neuron (top predicted or chosen)\n",
        "    # with regard to the output feature map of the last conv layer\n",
        "    grads = tape.gradient(class_channel, last_conv_layer_output)\n",
        "\n",
        "    # This is a vector where each entry is the mean intensity of the gradient\n",
        "    # over a specific feature map channel\n",
        "    pooled_grads = tf.reduce_mean(grads, axis=(0, 1, 2))\n",
        "\n",
        "    # We multiply each channel in the feature map array\n",
        "    # by \"how important this channel is\" with regard to the top predicted class\n",
        "    # then sum all the channels to obtain the heatmap class activation\n",
        "    last_conv_layer_output = last_conv_layer_output[0]\n",
        "    heatmap = last_conv_layer_output @ pooled_grads[..., tf.newaxis]\n",
        "    heatmap = tf.squeeze(heatmap)\n",
        "\n",
        "    # For visualization purpose, we will also normalize the heatmap between 0 & 1\n",
        "    heatmap = tf.maximum(heatmap, 0) / tf.math.reduce_max(heatmap)\n",
        "    return heatmap.numpy()"
      ],
      "metadata": {
        "id": "Pp4dgCgWb9xH"
      },
      "execution_count": 123,
      "outputs": []
    },
    {
      "cell_type": "code",
      "source": [
        "# Prepare image\n",
        "img_array = preprocess_input(get_img_array(img_path, size=img_size))\n",
        "# last_conv_layer_name = \"predictions\"\n",
        "\n",
        "# # Make model\n",
        "nmodel = model_builder(weights=\"imagenet\")\n",
        "\n",
        "# Remove last layer's softmax\n",
        "nmodel.layers[-1].activation = None\n",
        "nmodel.summary()\n",
        "\n",
        "# Print what the top predicted class is\n",
        "preds = model.predict(preprocess_input(get_img_array(img_path, size=(128,128))))\n",
        "# print(\"Predicted:\", decode_predictions(preds, top=1)[0])\n",
        "print(preds)\n",
        "\n",
        "# Generate class activation heatmap\n",
        "heatmap = make_gradcam_heatmap(img_array, nmodel, last_conv_layer_name)\n",
        "\n",
        "# Display heatmap\n",
        "plt.matshow(heatmap)\n",
        "plt.show()"
      ],
      "metadata": {
        "id": "ZC-98_HIb_V3",
        "colab": {
          "base_uri": "https://localhost:8080/",
          "height": 239
        },
        "outputId": "a16a4f1a-3d32-4988-d497-7d9783e2e8ef"
      },
      "execution_count": 124,
      "outputs": [
        {
          "output_type": "error",
          "ename": "NameError",
          "evalue": "ignored",
          "traceback": [
            "\u001b[0;31m---------------------------------------------------------------------------\u001b[0m",
            "\u001b[0;31mNameError\u001b[0m                                 Traceback (most recent call last)",
            "\u001b[0;32m<ipython-input-124-55e89ccdcaf7>\u001b[0m in \u001b[0;36m<module>\u001b[0;34m()\u001b[0m\n\u001b[1;32m      1\u001b[0m \u001b[0;31m# Prepare image\u001b[0m\u001b[0;34m\u001b[0m\u001b[0;34m\u001b[0m\u001b[0;34m\u001b[0m\u001b[0m\n\u001b[0;32m----> 2\u001b[0;31m \u001b[0mimg_array\u001b[0m \u001b[0;34m=\u001b[0m \u001b[0mpreprocess_input\u001b[0m\u001b[0;34m(\u001b[0m\u001b[0mget_img_array\u001b[0m\u001b[0;34m(\u001b[0m\u001b[0mimg_path\u001b[0m\u001b[0;34m,\u001b[0m \u001b[0msize\u001b[0m\u001b[0;34m=\u001b[0m\u001b[0mimg_size\u001b[0m\u001b[0;34m)\u001b[0m\u001b[0;34m)\u001b[0m\u001b[0;34m\u001b[0m\u001b[0;34m\u001b[0m\u001b[0m\n\u001b[0m\u001b[1;32m      3\u001b[0m \u001b[0;31m# last_conv_layer_name = \"predictions\"\u001b[0m\u001b[0;34m\u001b[0m\u001b[0;34m\u001b[0m\u001b[0;34m\u001b[0m\u001b[0m\n\u001b[1;32m      4\u001b[0m \u001b[0;34m\u001b[0m\u001b[0m\n\u001b[1;32m      5\u001b[0m \u001b[0;31m# # Make model\u001b[0m\u001b[0;34m\u001b[0m\u001b[0;34m\u001b[0m\u001b[0;34m\u001b[0m\u001b[0m\n",
            "\u001b[0;31mNameError\u001b[0m: name 'img_path' is not defined"
          ]
        }
      ]
    },
    {
      "cell_type": "code",
      "source": [
        "def save_and_display_gradcam(img_path, heatmap, cam_path=\"cam.jpg\", alpha=0.4):\n",
        "    # Load the original image\n",
        "    img = keras.preprocessing.image.load_img(img_path)\n",
        "    img = keras.preprocessing.image.img_to_array(img)\n",
        "\n",
        "    # Rescale heatmap to a range 0-255\n",
        "    heatmap = np.uint8(255 * heatmap)\n",
        "\n",
        "    # Use jet colormap to colorize heatmap\n",
        "    jet = cm.get_cmap(\"jet\")\n",
        "\n",
        "    # Use RGB values of the colormap\n",
        "    jet_colors = jet(np.arange(256))[:, :3]\n",
        "    jet_heatmap = jet_colors[heatmap]\n",
        "\n",
        "    # Create an image with RGB colorized heatmap\n",
        "    jet_heatmap = keras.preprocessing.image.array_to_img(jet_heatmap)\n",
        "    jet_heatmap = jet_heatmap.resize((img.shape[1], img.shape[0]))\n",
        "    jet_heatmap = keras.preprocessing.image.img_to_array(jet_heatmap)\n",
        "\n",
        "    # Superimpose the heatmap on original image\n",
        "    superimposed_img = jet_heatmap * alpha + img\n",
        "    superimposed_img = keras.preprocessing.image.array_to_img(superimposed_img)\n",
        "\n",
        "    # Save the superimposed image\n",
        "    superimposed_img.save(cam_path)\n",
        "\n",
        "    # Display Grad CAM\n",
        "    display(Image(cam_path))\n",
        "\n",
        "\n",
        "save_and_display_gradcam(img_path, heatmap)"
      ],
      "metadata": {
        "id": "CWKMvPvucAtg"
      },
      "execution_count": null,
      "outputs": []
    },
    {
      "cell_type": "code",
      "source": [
        "img_dir=\"/content/drive/MyDrive/Thesis work/DataSet/Mini_DDSM/Cancer/1207_C_0187_1.RIGHT_CC.LJPEG.1_highpass.png\"\n",
        "# Print what the top predicted class is\n",
        "preds = model.predict(preprocess_input(get_img_array(img_dir, size=(128,128))))\n",
        "print(preds)\n",
        "print(list(preds[0]))\n",
        "temp=list(preds[0])\n",
        "cancerProb=temp[0]\n",
        "normalProb=temp[1]\n",
        "if cancerProb>normalProb:\n",
        "  print(\"Cancerous !\")\n",
        "else:\n",
        "  print(\"Normal\")\n",
        "\n",
        "# Generate class activation heatmap\n",
        "heatmap = make_gradcam_heatmap(preprocess_input(get_img_array(img_dir, size=(299,299))), nmodel, last_conv_layer_name)\n",
        "# Display heatmap\n",
        "plt.matshow(heatmap)\n",
        "plt.show()\n",
        "save_and_display_gradcam(img_dir, heatmap)"
      ],
      "metadata": {
        "id": "Kd7vTaiAcESW"
      },
      "execution_count": null,
      "outputs": []
    }
  ]
}