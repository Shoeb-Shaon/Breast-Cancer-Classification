{
  "nbformat": 4,
  "nbformat_minor": 0,
  "metadata": {
    "colab": {
      "name": "Breast  Cancer Classification .ipynb",
      "provenance": [],
      "collapsed_sections": [],
      "authorship_tag": "ABX9TyPqPL1AaPfzW9laqjeZ2Cq6"
    },
    "kernelspec": {
      "name": "python3",
      "display_name": "Python 3"
    },
    "language_info": {
      "name": "python"
    }
  },
  "cells": [
    {
      "cell_type": "markdown",
      "source": [
        "# Loading and preprocesing"
      ],
      "metadata": {
        "id": "UNoexj8UqPPs"
      }
    },
    {
      "cell_type": "markdown",
      "source": [
        "Importing libraries"
      ],
      "metadata": {
        "id": "a98c-mhD-cY2"
      }
    },
    {
      "cell_type": "code",
      "source": [
        "import numpy as np\n",
        "import matplotlib.pyplot as plt\n",
        "import os\n",
        "import math\n",
        "import shutil\n",
        "import glob\n",
        "import keras\n",
        "from keras.layers import Conv2D, MaxPool2D, Dropout, Flatten, Dense, BatchNormalization, GlobalAvgPool2D\n",
        "from keras.models import Sequential\n",
        "from keras.preprocessing.image import ImageDataGenerator\n",
        "import keras\n",
        "import matplotlib.pyplot as plt\n",
        "from keras.preprocessing import image\n",
        "from keras_preprocessing.image import load_img, img_to_array\n",
        "from keras.preprocessing.image import ImageDataGenerator\n",
        "from keras.applications.mobilenet import preprocess_input\n",
        "from keras.models import Model, load_model\n",
        "from keras.applications.mobilenet import MobileNet"
      ],
      "metadata": {
        "id": "-1g-SI3ZpcIF"
      },
      "execution_count": 49,
      "outputs": []
    },
    {
      "cell_type": "code",
      "source": [
        "root_dir=\"/content/drive/MyDrive/Thesis resources/Datasets/dataset'/Mini_DDSM_Upload\"\n",
        "number_of_images={}\n",
        "for dir in os.listdir(root_dir):\n",
        "  number_of_images[dir]=len(os.listdir(os.path.join(root_dir,dir)))"
      ],
      "metadata": {
        "id": "CVrG5qFB6Ye-"
      },
      "execution_count": 21,
      "outputs": []
    },
    {
      "cell_type": "markdown",
      "source": [
        "Creating Traning Folder"
      ],
      "metadata": {
        "id": "VnOL3Nns-S1G"
      }
    },
    {
      "cell_type": "code",
      "source": [
        "\n",
        "def dataFolder(p,split):\n",
        "  if not os.path.exists(\"/content/drive/MyDrive/\"+p):\n",
        "    os.mkdir(\"/content/drive/MyDrive/\"+p)\n",
        "    for dir in os.listdir(root_dir):\n",
        "      os.makedirs(\"/content/drive/MyDrive/\"+p+\"/\"+dir)\n",
        "      for img in np.random.choice(a=os.listdir(os.path.join(root_dir,dir)),size=(math.floor(split*number_of_images[dir])-5),replace=False):\n",
        "        O=os.path.join(root_dir,dir,img)\n",
        "        D=os.path.join(\"/content/drive/MyDrive/\"+p,dir)\n",
        "        shutil.copy(O,D)\n",
        "        os.remove(O)\n",
        "  else:\n",
        "    print(f\"{p} Folder exist\")"
      ],
      "metadata": {
        "id": "wen9yrBIvd2J"
      },
      "execution_count": 22,
      "outputs": []
    },
    {
      "cell_type": "code",
      "source": [
        "dataFolder(\"thesis_train\",0.7)\n",
        "dataFolder(\"thesis_test\",0.15)\n",
        "dataFolder(\"thesis_val\",0.15)"
      ],
      "metadata": {
        "colab": {
          "base_uri": "https://localhost:8080/"
        },
        "id": "yYlsMNJv-pKW",
        "outputId": "e9201e89-e6a5-4315-c367-639369d2172e"
      },
      "execution_count": 25,
      "outputs": [
        {
          "output_type": "stream",
          "name": "stdout",
          "text": [
            "thesis_train Folder exist\n"
          ]
        }
      ]
    },
    {
      "cell_type": "code",
      "source": [
        "root_dir=\"/content/drive/MyDrive/Thesis resources/Datasets/dataset'/Mini_DDSM_Upload\"\n",
        "number_of_images={}\n",
        "for dir in os.listdir(root_dir):\n",
        "  number_of_images[dir]=len(os.listdir(os.path.join(root_dir,dir)))\n",
        "number_of_images.items()"
      ],
      "metadata": {
        "colab": {
          "base_uri": "https://localhost:8080/"
        },
        "id": "_5kuVfMj-p3Q",
        "outputId": "ca574678-1ad8-49b7-d9cc-bbfa58d8ddfb"
      },
      "execution_count": 26,
      "outputs": [
        {
          "output_type": "execute_result",
          "data": {
            "text/plain": [
              "dict_items([('Normal', 16), ('Cancer', 16), ('Benign', 16)])"
            ]
          },
          "metadata": {},
          "execution_count": 26
        }
      ]
    },
    {
      "cell_type": "markdown",
      "source": [
        "# Basic CNN model"
      ],
      "metadata": {
        "id": "0h7PzQL-ABls"
      }
    },
    {
      "cell_type": "code",
      "source": [
        "#CNN Model\n",
        "model= Sequential()\n",
        "model.add(Conv2D(filters=16,kernel_size=(3,3), activation= 'relu', input_shape=(224,224,3)))\n",
        "\n",
        "model.add(Conv2D(filters=32,kernel_size=(3,3), activation= 'relu'))\n",
        "model.add(MaxPool2D(pool_size=(2,2)))\n",
        "\n",
        "model.add(Conv2D(filters=64,kernel_size=(3,3), activation= 'relu'))\n",
        "model.add(MaxPool2D(pool_size=(2,2)))\n",
        "\n",
        "model.add(Conv2D(filters=128,kernel_size=(3,3), activation= 'relu'))\n",
        "model.add(MaxPool2D(pool_size=(2,2)))\n",
        "\n",
        "model.add(Dropout(rate=0.25))\n",
        "\n",
        "model.add(Flatten())\n",
        "model.add(Dense(units=64, activation= 'relu'))\n",
        "model.add(Dense(units=1, activation='sigmoid'))\n",
        "model.summary()"
      ],
      "metadata": {
        "colab": {
          "base_uri": "https://localhost:8080/"
        },
        "id": "2klRHJphAHW-",
        "outputId": "181d1039-5795-43dd-8403-c98b047e9e8d"
      },
      "execution_count": 27,
      "outputs": [
        {
          "output_type": "stream",
          "name": "stdout",
          "text": [
            "Model: \"sequential\"\n",
            "_________________________________________________________________\n",
            " Layer (type)                Output Shape              Param #   \n",
            "=================================================================\n",
            " conv2d (Conv2D)             (None, 222, 222, 16)      448       \n",
            "                                                                 \n",
            " conv2d_1 (Conv2D)           (None, 220, 220, 32)      4640      \n",
            "                                                                 \n",
            " max_pooling2d (MaxPooling2D  (None, 110, 110, 32)     0         \n",
            " )                                                               \n",
            "                                                                 \n",
            " conv2d_2 (Conv2D)           (None, 108, 108, 64)      18496     \n",
            "                                                                 \n",
            " max_pooling2d_1 (MaxPooling  (None, 54, 54, 64)       0         \n",
            " 2D)                                                             \n",
            "                                                                 \n",
            " conv2d_3 (Conv2D)           (None, 52, 52, 128)       73856     \n",
            "                                                                 \n",
            " max_pooling2d_2 (MaxPooling  (None, 26, 26, 128)      0         \n",
            " 2D)                                                             \n",
            "                                                                 \n",
            " dropout (Dropout)           (None, 26, 26, 128)       0         \n",
            "                                                                 \n",
            " flatten (Flatten)           (None, 86528)             0         \n",
            "                                                                 \n",
            " dense (Dense)               (None, 64)                5537856   \n",
            "                                                                 \n",
            " dense_1 (Dense)             (None, 1)                 65        \n",
            "                                                                 \n",
            "=================================================================\n",
            "Total params: 5,635,361\n",
            "Trainable params: 5,635,361\n",
            "Non-trainable params: 0\n",
            "_________________________________________________________________\n"
          ]
        }
      ]
    },
    {
      "cell_type": "markdown",
      "source": [
        ""
      ],
      "metadata": {
        "id": "xp8-tOT__-oN"
      }
    },
    {
      "cell_type": "code",
      "source": [
        "model.compile(optimizer='adam',loss=keras.losses.binary_crossentropy, metrics=['accuracy'])"
      ],
      "metadata": {
        "id": "llAbzdkjAK2U"
      },
      "execution_count": 28,
      "outputs": []
    },
    {
      "cell_type": "code",
      "source": [
        "def preprocessingImages1(path):\n",
        "  image_data=ImageDataGenerator(zoom_range=0.2,shear_range=0.2, rescale=1/255, horizontal_flip=True)\n",
        "  image= image_data.flow_from_directory(directory=path, target_size=(224,224), batch_size=32, class_mode= 'binary')\n",
        "\n",
        "  return image "
      ],
      "metadata": {
        "id": "3Rvds5boAOvu"
      },
      "execution_count": 29,
      "outputs": []
    },
    {
      "cell_type": "code",
      "source": [
        "path=\"/content/drive/MyDrive/thesis_train\"\n",
        "train_data= preprocessingImages1(path)"
      ],
      "metadata": {
        "colab": {
          "base_uri": "https://localhost:8080/"
        },
        "id": "bFY9pLFPCNDu",
        "outputId": "3a30a783-7b9f-4b37-a6cb-7bd12ae38885"
      },
      "execution_count": 32,
      "outputs": [
        {
          "output_type": "stream",
          "name": "stdout",
          "text": [
            "Found 6772 images belonging to 3 classes.\n"
          ]
        }
      ]
    },
    {
      "cell_type": "code",
      "source": [
        "def preprocessingImages2(path):\n",
        "  image_data=ImageDataGenerator(rescale=1/255)\n",
        "  image= image_data.flow_from_directory(directory=path, target_size=(224,224), batch_size=32, class_mode= 'binary')\n",
        "\n",
        "  return image "
      ],
      "metadata": {
        "id": "57FWU1iyDjLi"
      },
      "execution_count": 34,
      "outputs": []
    },
    {
      "cell_type": "code",
      "source": [
        "path=\"/content/drive/MyDrive/thesis_test\"\n",
        "test_data= preprocessingImages2(path)"
      ],
      "metadata": {
        "colab": {
          "base_uri": "https://localhost:8080/"
        },
        "id": "5z5-3bXgDkIT",
        "outputId": "4c84dde9-8295-405b-956f-69e608ae7c9e"
      },
      "execution_count": 35,
      "outputs": [
        {
          "output_type": "stream",
          "name": "stdout",
          "text": [
            "Found 1439 images belonging to 3 classes.\n"
          ]
        }
      ]
    },
    {
      "cell_type": "code",
      "source": [
        "path=\"/content/drive/MyDrive/thesis_val\"\n",
        "val_data= preprocessingImages2(path)"
      ],
      "metadata": {
        "colab": {
          "base_uri": "https://localhost:8080/"
        },
        "id": "btQhh1C5D0m8",
        "outputId": "472b2283-592c-4d80-df50-321e643c8645"
      },
      "execution_count": 36,
      "outputs": [
        {
          "output_type": "stream",
          "name": "stdout",
          "text": [
            "Found 1439 images belonging to 3 classes.\n"
          ]
        }
      ]
    },
    {
      "cell_type": "code",
      "source": [
        "# early stopping and model check point\n",
        "from keras.callbacks import ModelCheckpoint, EarlyStopping\n",
        "\n",
        "#Early stopping\n",
        "es=EarlyStopping (monitor=\"val_accuracy\",min_delta=0.01, patience=6, verbose=1, mode='auto')\n",
        "\n",
        "#model check point\n",
        "mc= ModelCheckpoint(monitor=\"val_accuracy\",filepath=\"/content/drive/MyDrive/Thesis work/bmodel.h5\",verbose=1, save_best_only=True, mode='auto')\n",
        "cd=[es,mc]\n"
      ],
      "metadata": {
        "id": "PA_gnZdQD4zZ"
      },
      "execution_count": 38,
      "outputs": []
    },
    {
      "cell_type": "markdown",
      "source": [
        "Model traning"
      ],
      "metadata": {
        "id": "oYlYUf-LD61S"
      }
    },
    {
      "cell_type": "code",
      "source": [
        "# model Training\n",
        "hs=model.fit_generator(generator=train_data, steps_per_epoch=8, epochs=60, verbose=1, validation_data=val_data, validation_steps=16, callbacks=cd )"
      ],
      "metadata": {
        "colab": {
          "base_uri": "https://localhost:8080/"
        },
        "id": "lOtzTzKbD6XW",
        "outputId": "37e0f23b-e3fd-4300-ca59-f88373db075c"
      },
      "execution_count": 40,
      "outputs": [
        {
          "output_type": "stream",
          "name": "stderr",
          "text": [
            "/usr/local/lib/python3.7/dist-packages/ipykernel_launcher.py:2: UserWarning: `Model.fit_generator` is deprecated and will be removed in a future version. Please use `Model.fit`, which supports generators.\n",
            "  \n"
          ]
        },
        {
          "output_type": "stream",
          "name": "stdout",
          "text": [
            "Epoch 1/60\n",
            "8/8 [==============================] - ETA: 0s - loss: 0.8059 - accuracy: 0.4023\n",
            "Epoch 1: val_accuracy improved from -inf to 0.38477, saving model to /content/drive/MyDrive/Thesis work/bmodel.h5\n",
            "8/8 [==============================] - 41s 5s/step - loss: 0.8059 - accuracy: 0.4023 - val_loss: 0.1242 - val_accuracy: 0.3848\n",
            "Epoch 2/60\n",
            "8/8 [==============================] - ETA: 0s - loss: -0.3600 - accuracy: 0.3555\n",
            "Epoch 2: val_accuracy did not improve from 0.38477\n",
            "8/8 [==============================] - 40s 5s/step - loss: -0.3600 - accuracy: 0.3555 - val_loss: 0.5067 - val_accuracy: 0.3691\n",
            "Epoch 3/60\n",
            "8/8 [==============================] - ETA: 0s - loss: 0.0090 - accuracy: 0.3867 \n",
            "Epoch 3: val_accuracy did not improve from 0.38477\n",
            "8/8 [==============================] - 40s 5s/step - loss: 0.0090 - accuracy: 0.3867 - val_loss: 0.1398 - val_accuracy: 0.3535\n",
            "Epoch 4/60\n",
            "8/8 [==============================] - ETA: 0s - loss: 0.0943 - accuracy: 0.3867\n",
            "Epoch 4: val_accuracy did not improve from 0.38477\n",
            "8/8 [==============================] - 40s 5s/step - loss: 0.0943 - accuracy: 0.3867 - val_loss: -0.3614 - val_accuracy: 0.3633\n",
            "Epoch 5/60\n",
            "8/8 [==============================] - ETA: 0s - loss: -1.9192 - accuracy: 0.3945\n",
            "Epoch 5: val_accuracy improved from 0.38477 to 0.38672, saving model to /content/drive/MyDrive/Thesis work/bmodel.h5\n",
            "8/8 [==============================] - 41s 5s/step - loss: -1.9192 - accuracy: 0.3945 - val_loss: 1.8054 - val_accuracy: 0.3867\n",
            "Epoch 6/60\n",
            "8/8 [==============================] - ETA: 0s - loss: -54.0464 - accuracy: 0.3672\n",
            "Epoch 6: val_accuracy did not improve from 0.38672\n",
            "8/8 [==============================] - 40s 5s/step - loss: -54.0464 - accuracy: 0.3672 - val_loss: -24.1805 - val_accuracy: 0.3828\n",
            "Epoch 7/60\n",
            "8/8 [==============================] - ETA: 0s - loss: 210.8732 - accuracy: 0.3984\n",
            "Epoch 7: val_accuracy improved from 0.38672 to 0.39648, saving model to /content/drive/MyDrive/Thesis work/bmodel.h5\n",
            "8/8 [==============================] - 40s 5s/step - loss: 210.8732 - accuracy: 0.3984 - val_loss: 29.1298 - val_accuracy: 0.3965\n",
            "Epoch 8/60\n",
            "8/8 [==============================] - ETA: 0s - loss: 16.9798 - accuracy: 0.4023\n",
            "Epoch 8: val_accuracy improved from 0.39648 to 0.41211, saving model to /content/drive/MyDrive/Thesis work/bmodel.h5\n",
            "8/8 [==============================] - 41s 5s/step - loss: 16.9798 - accuracy: 0.4023 - val_loss: -4.7593 - val_accuracy: 0.4121\n",
            "Epoch 9/60\n",
            "8/8 [==============================] - ETA: 0s - loss: 1.1292 - accuracy: 0.3516\n",
            "Epoch 9: val_accuracy did not improve from 0.41211\n",
            "8/8 [==============================] - 40s 5s/step - loss: 1.1292 - accuracy: 0.3516 - val_loss: -37.8013 - val_accuracy: 0.3633\n",
            "Epoch 10/60\n",
            "8/8 [==============================] - ETA: 0s - loss: -32.3615 - accuracy: 0.3555\n",
            "Epoch 10: val_accuracy did not improve from 0.41211\n",
            "8/8 [==============================] - 40s 5s/step - loss: -32.3615 - accuracy: 0.3555 - val_loss: -36.6301 - val_accuracy: 0.3457\n",
            "Epoch 11/60\n",
            "8/8 [==============================] - ETA: 0s - loss: -43.3689 - accuracy: 0.3359\n",
            "Epoch 11: val_accuracy did not improve from 0.41211\n",
            "8/8 [==============================] - 40s 5s/step - loss: -43.3689 - accuracy: 0.3359 - val_loss: -55.4516 - val_accuracy: 0.3809\n",
            "Epoch 12/60\n",
            "8/8 [==============================] - ETA: 0s - loss: -125.4783 - accuracy: 0.3477\n",
            "Epoch 12: val_accuracy did not improve from 0.41211\n",
            "8/8 [==============================] - 40s 5s/step - loss: -125.4783 - accuracy: 0.3477 - val_loss: -25.7330 - val_accuracy: 0.3770\n",
            "Epoch 13/60\n",
            "8/8 [==============================] - ETA: 0s - loss: -155.8986 - accuracy: 0.3711\n",
            "Epoch 13: val_accuracy did not improve from 0.41211\n",
            "8/8 [==============================] - 40s 5s/step - loss: -155.8986 - accuracy: 0.3711 - val_loss: 2.8352 - val_accuracy: 0.3711\n",
            "Epoch 14/60\n",
            "8/8 [==============================] - ETA: 0s - loss: -30.0338 - accuracy: 0.4062\n",
            "Epoch 14: val_accuracy did not improve from 0.41211\n",
            "8/8 [==============================] - 40s 5s/step - loss: -30.0338 - accuracy: 0.4062 - val_loss: 8.9550 - val_accuracy: 0.3828\n",
            "Epoch 14: early stopping\n"
          ]
        }
      ]
    },
    {
      "cell_type": "code",
      "source": [
        "h=hs.history\n",
        "h.keys()"
      ],
      "metadata": {
        "colab": {
          "base_uri": "https://localhost:8080/"
        },
        "id": "kvGR7uhzKARn",
        "outputId": "11ab5794-cf5b-4c85-f8e5-f7e813e41bc0"
      },
      "execution_count": 41,
      "outputs": [
        {
          "output_type": "execute_result",
          "data": {
            "text/plain": [
              "dict_keys(['loss', 'accuracy', 'val_loss', 'val_accuracy'])"
            ]
          },
          "metadata": {},
          "execution_count": 41
        }
      ]
    },
    {
      "cell_type": "code",
      "source": [
        "plt.plot(h['accuracy'])\n",
        "plt.plot(h['val_accuracy'], c=\"red\")\n",
        "\n",
        "plt.title(\"Acc VS Val_acc\")\n",
        "plt.show()"
      ],
      "metadata": {
        "colab": {
          "base_uri": "https://localhost:8080/",
          "height": 281
        },
        "id": "wkcuIfzwKA8G",
        "outputId": "217bc603-8991-49f4-c9ba-aa588b42e1bb"
      },
      "execution_count": 43,
      "outputs": [
        {
          "output_type": "display_data",
          "data": {
            "text/plain": [
              "<Figure size 432x288 with 1 Axes>"
            ],
            "image/png": "[encoded data removed]"
          },
          "metadata": {
            "needs_background": "light"
          }
        }
      ]
    },
    {
      "cell_type": "code",
      "source": [
        "plt.plot(h['loss'])\n",
        "plt.plot(h['val_accuracy'], c=\"red\")\n",
        "\n",
        "plt.title(\"loss VS Val_loss\")\n",
        "plt.show()"
      ],
      "metadata": {
        "colab": {
          "base_uri": "https://localhost:8080/",
          "height": 281
        },
        "id": "v93sMl8HKCR1",
        "outputId": "f14236a5-c626-4a3c-d6a4-97174648219d"
      },
      "execution_count": 44,
      "outputs": [
        {
          "output_type": "display_data",
          "data": {
            "text/plain": [
              "<Figure size 432x288 with 1 Axes>"
            ],
            "image/png": "[encoded data removed]"
          },
          "metadata": {
            "needs_background": "light"
          }
        }
      ]
    },
    {
      "cell_type": "markdown",
      "source": [
        "loading model"
      ],
      "metadata": {
        "id": "OJsGY-rZZAu3"
      }
    },
    {
      "cell_type": "code",
      "source": [
        "\n",
        "from keras.models import load_model\n",
        "mdl= load_model(\"/content/drive/MyDrive/Thesis work/bmodel.h5\")"
      ],
      "metadata": {
        "id": "8NGSoIHAY6zk"
      },
      "execution_count": 46,
      "outputs": []
    },
    {
      "cell_type": "markdown",
      "source": [
        "Model accuracy"
      ],
      "metadata": {
        "id": "fWtQvV0vZJhF"
      }
    },
    {
      "cell_type": "code",
      "source": [
        "acc=mdl.evaluate_generator(test_data)[1]\n",
        "print(f\"The accuracy of our model is {acc*100}%\")"
      ],
      "metadata": {
        "colab": {
          "base_uri": "https://localhost:8080/"
        },
        "id": "VovcVirsY-oS",
        "outputId": "3814a9d2-e280-4e71-d6d6-4797ec4b04a1"
      },
      "execution_count": null,
      "outputs": [
        {
          "output_type": "stream",
          "name": "stderr",
          "text": [
            "/usr/local/lib/python3.7/dist-packages/ipykernel_launcher.py:1: UserWarning: `Model.evaluate_generator` is deprecated and will be removed in a future version. Please use `Model.evaluate`, which supports generators.\n",
            "  \"\"\"Entry point for launching an IPython kernel.\n"
          ]
        }
      ]
    },
    {
      "cell_type": "code",
      "source": [
        "def preprocessingImages1(path):\n",
        "  image_data=ImageDataGenerator(zoom_range=0.2,shear_range=0.2, rescale=1/255, horizontal_flip=True)\n",
        "  image= image_data.flow_from_directory(directory=path, target_size=(224,224), batch_size=32, class_mode= 'binary')\n",
        "\n",
        "  return image "
      ],
      "metadata": {
        "id": "2KY1XqeRZYLs"
      },
      "execution_count": 53,
      "outputs": []
    },
    {
      "cell_type": "code",
      "source": [
        "path=\"/content/drive/MyDrive/thesis_train\"\n",
        "train_data= preprocessingImages1(path)"
      ],
      "metadata": {
        "colab": {
          "base_uri": "https://localhost:8080/"
        },
        "id": "EITXq3mXZZub",
        "outputId": "77ea733e-0b91-4693-8f0f-91f650f98f0b"
      },
      "execution_count": 54,
      "outputs": [
        {
          "output_type": "stream",
          "name": "stdout",
          "text": [
            "Found 6772 images belonging to 3 classes.\n"
          ]
        }
      ]
    },
    {
      "cell_type": "code",
      "source": [
        "def preprocessingImages2(path):\n",
        "  image_data=ImageDataGenerator(preprocessing_function=preprocess_input)\n",
        "  image= image_data.flow_from_directory(directory=path, target_size=(224,224), batch_size=32, class_mode= 'binary')\n",
        "  return image"
      ],
      "metadata": {
        "id": "T46E3yaoZb1O"
      },
      "execution_count": 55,
      "outputs": []
    },
    {
      "cell_type": "code",
      "source": [
        "path=\"/content/drive/MyDrive/thesis_test\"\n",
        "test_data= preprocessingImages2(path)"
      ],
      "metadata": {
        "id": "uISowkKSZdPE",
        "outputId": "df8f420a-49d2-4a4f-d71a-44edcfaf80d1",
        "colab": {
          "base_uri": "https://localhost:8080/"
        }
      },
      "execution_count": 56,
      "outputs": [
        {
          "output_type": "stream",
          "name": "stdout",
          "text": [
            "Found 1439 images belonging to 3 classes.\n"
          ]
        }
      ]
    },
    {
      "cell_type": "code",
      "source": [
        "path=\"/content/drive/MyDrive/thesis_val\"\n",
        "val_data= preprocessingImages2(path)"
      ],
      "metadata": {
        "id": "Gyx8k4XzZeh-",
        "outputId": "5fc604b0-4bb1-436c-9d93-69f6f0c3b18b",
        "colab": {
          "base_uri": "https://localhost:8080/"
        }
      },
      "execution_count": 57,
      "outputs": [
        {
          "output_type": "stream",
          "name": "stdout",
          "text": [
            "Found 1439 images belonging to 3 classes.\n"
          ]
        }
      ]
    },
    {
      "cell_type": "code",
      "source": [
        "base_model=MobileNet(input_shape=(224,224,3), include_top=False)"
      ],
      "metadata": {
        "id": "4IsL8rjea4UV",
        "outputId": "9d138bed-c6ad-4e4e-8de6-1e24f2951382",
        "colab": {
          "base_uri": "https://localhost:8080/"
        }
      },
      "execution_count": 58,
      "outputs": [
        {
          "output_type": "stream",
          "name": "stdout",
          "text": [
            "Downloading data from https://storage.googleapis.com/tensorflow/keras-applications/mobilenet/mobilenet_1_0_224_tf_no_top.h5\n",
            "17227776/17225924 [==============================] - 1s 0us/step\n",
            "17235968/17225924 [==============================] - 1s 0us/step\n"
          ]
        }
      ]
    },
    {
      "cell_type": "code",
      "source": [
        "for layer in base_model.layers:\n",
        "  layer.trainable= False"
      ],
      "metadata": {
        "id": "92eIjhm4a7aP"
      },
      "execution_count": 59,
      "outputs": []
    },
    {
      "cell_type": "code",
      "source": [
        "X=Flatten()(base_model.output)\n",
        "X=Dense(units=1, activation='sigmoid')(X)\n",
        "\n",
        "model=Model(base_model.input,X)"
      ],
      "metadata": {
        "id": "Ugftmtgya87y"
      },
      "execution_count": 60,
      "outputs": []
    },
    {
      "cell_type": "code",
      "source": [
        "base_model.summary()"
      ],
      "metadata": {
        "id": "c_Q40nc2bDBl",
        "outputId": "149fdc85-8537-4fb5-9478-aad41221b837",
        "colab": {
          "base_uri": "https://localhost:8080/"
        }
      },
      "execution_count": 61,
      "outputs": [
        {
          "output_type": "stream",
          "name": "stdout",
          "text": [
            "Model: \"mobilenet_1.00_224\"\n",
            "_________________________________________________________________\n",
            " Layer (type)                Output Shape              Param #   \n",
            "=================================================================\n",
            " input_1 (InputLayer)        [(None, 224, 224, 3)]     0         \n",
            "                                                                 \n",
            " conv1 (Conv2D)              (None, 112, 112, 32)      864       \n",
            "                                                                 \n",
            " conv1_bn (BatchNormalizatio  (None, 112, 112, 32)     128       \n",
            " n)                                                              \n",
            "                                                                 \n",
            " conv1_relu (ReLU)           (None, 112, 112, 32)      0         \n",
            "                                                                 \n",
            " conv_dw_1 (DepthwiseConv2D)  (None, 112, 112, 32)     288       \n",
            "                                                                 \n",
            " conv_dw_1_bn (BatchNormaliz  (None, 112, 112, 32)     128       \n",
            " ation)                                                          \n",
            "                                                                 \n",
            " conv_dw_1_relu (ReLU)       (None, 112, 112, 32)      0         \n",
            "                                                                 \n",
            " conv_pw_1 (Conv2D)          (None, 112, 112, 64)      2048      \n",
            "                                                                 \n",
            " conv_pw_1_bn (BatchNormaliz  (None, 112, 112, 64)     256       \n",
            " ation)                                                          \n",
            "                                                                 \n",
            " conv_pw_1_relu (ReLU)       (None, 112, 112, 64)      0         \n",
            "                                                                 \n",
            " conv_pad_2 (ZeroPadding2D)  (None, 113, 113, 64)      0         \n",
            "                                                                 \n",
            " conv_dw_2 (DepthwiseConv2D)  (None, 56, 56, 64)       576       \n",
            "                                                                 \n",
            " conv_dw_2_bn (BatchNormaliz  (None, 56, 56, 64)       256       \n",
            " ation)                                                          \n",
            "                                                                 \n",
            " conv_dw_2_relu (ReLU)       (None, 56, 56, 64)        0         \n",
            "                                                                 \n",
            " conv_pw_2 (Conv2D)          (None, 56, 56, 128)       8192      \n",
            "                                                                 \n",
            " conv_pw_2_bn (BatchNormaliz  (None, 56, 56, 128)      512       \n",
            " ation)                                                          \n",
            "                                                                 \n",
            " conv_pw_2_relu (ReLU)       (None, 56, 56, 128)       0         \n",
            "                                                                 \n",
            " conv_dw_3 (DepthwiseConv2D)  (None, 56, 56, 128)      1152      \n",
            "                                                                 \n",
            " conv_dw_3_bn (BatchNormaliz  (None, 56, 56, 128)      512       \n",
            " ation)                                                          \n",
            "                                                                 \n",
            " conv_dw_3_relu (ReLU)       (None, 56, 56, 128)       0         \n",
            "                                                                 \n",
            " conv_pw_3 (Conv2D)          (None, 56, 56, 128)       16384     \n",
            "                                                                 \n",
            " conv_pw_3_bn (BatchNormaliz  (None, 56, 56, 128)      512       \n",
            " ation)                                                          \n",
            "                                                                 \n",
            " conv_pw_3_relu (ReLU)       (None, 56, 56, 128)       0         \n",
            "                                                                 \n",
            " conv_pad_4 (ZeroPadding2D)  (None, 57, 57, 128)       0         \n",
            "                                                                 \n",
            " conv_dw_4 (DepthwiseConv2D)  (None, 28, 28, 128)      1152      \n",
            "                                                                 \n",
            " conv_dw_4_bn (BatchNormaliz  (None, 28, 28, 128)      512       \n",
            " ation)                                                          \n",
            "                                                                 \n",
            " conv_dw_4_relu (ReLU)       (None, 28, 28, 128)       0         \n",
            "                                                                 \n",
            " conv_pw_4 (Conv2D)          (None, 28, 28, 256)       32768     \n",
            "                                                                 \n",
            " conv_pw_4_bn (BatchNormaliz  (None, 28, 28, 256)      1024      \n",
            " ation)                                                          \n",
            "                                                                 \n",
            " conv_pw_4_relu (ReLU)       (None, 28, 28, 256)       0         \n",
            "                                                                 \n",
            " conv_dw_5 (DepthwiseConv2D)  (None, 28, 28, 256)      2304      \n",
            "                                                                 \n",
            " conv_dw_5_bn (BatchNormaliz  (None, 28, 28, 256)      1024      \n",
            " ation)                                                          \n",
            "                                                                 \n",
            " conv_dw_5_relu (ReLU)       (None, 28, 28, 256)       0         \n",
            "                                                                 \n",
            " conv_pw_5 (Conv2D)          (None, 28, 28, 256)       65536     \n",
            "                                                                 \n",
            " conv_pw_5_bn (BatchNormaliz  (None, 28, 28, 256)      1024      \n",
            " ation)                                                          \n",
            "                                                                 \n",
            " conv_pw_5_relu (ReLU)       (None, 28, 28, 256)       0         \n",
            "                                                                 \n",
            " conv_pad_6 (ZeroPadding2D)  (None, 29, 29, 256)       0         \n",
            "                                                                 \n",
            " conv_dw_6 (DepthwiseConv2D)  (None, 14, 14, 256)      2304      \n",
            "                                                                 \n",
            " conv_dw_6_bn (BatchNormaliz  (None, 14, 14, 256)      1024      \n",
            " ation)                                                          \n",
            "                                                                 \n",
            " conv_dw_6_relu (ReLU)       (None, 14, 14, 256)       0         \n",
            "                                                                 \n",
            " conv_pw_6 (Conv2D)          (None, 14, 14, 512)       131072    \n",
            "                                                                 \n",
            " conv_pw_6_bn (BatchNormaliz  (None, 14, 14, 512)      2048      \n",
            " ation)                                                          \n",
            "                                                                 \n",
            " conv_pw_6_relu (ReLU)       (None, 14, 14, 512)       0         \n",
            "                                                                 \n",
            " conv_dw_7 (DepthwiseConv2D)  (None, 14, 14, 512)      4608      \n",
            "                                                                 \n",
            " conv_dw_7_bn (BatchNormaliz  (None, 14, 14, 512)      2048      \n",
            " ation)                                                          \n",
            "                                                                 \n",
            " conv_dw_7_relu (ReLU)       (None, 14, 14, 512)       0         \n",
            "                                                                 \n",
            " conv_pw_7 (Conv2D)          (None, 14, 14, 512)       262144    \n",
            "                                                                 \n",
            " conv_pw_7_bn (BatchNormaliz  (None, 14, 14, 512)      2048      \n",
            " ation)                                                          \n",
            "                                                                 \n",
            " conv_pw_7_relu (ReLU)       (None, 14, 14, 512)       0         \n",
            "                                                                 \n",
            " conv_dw_8 (DepthwiseConv2D)  (None, 14, 14, 512)      4608      \n",
            "                                                                 \n",
            " conv_dw_8_bn (BatchNormaliz  (None, 14, 14, 512)      2048      \n",
            " ation)                                                          \n",
            "                                                                 \n",
            " conv_dw_8_relu (ReLU)       (None, 14, 14, 512)       0         \n",
            "                                                                 \n",
            " conv_pw_8 (Conv2D)          (None, 14, 14, 512)       262144    \n",
            "                                                                 \n",
            " conv_pw_8_bn (BatchNormaliz  (None, 14, 14, 512)      2048      \n",
            " ation)                                                          \n",
            "                                                                 \n",
            " conv_pw_8_relu (ReLU)       (None, 14, 14, 512)       0         \n",
            "                                                                 \n",
            " conv_dw_9 (DepthwiseConv2D)  (None, 14, 14, 512)      4608      \n",
            "                                                                 \n",
            " conv_dw_9_bn (BatchNormaliz  (None, 14, 14, 512)      2048      \n",
            " ation)                                                          \n",
            "                                                                 \n",
            " conv_dw_9_relu (ReLU)       (None, 14, 14, 512)       0         \n",
            "                                                                 \n",
            " conv_pw_9 (Conv2D)          (None, 14, 14, 512)       262144    \n",
            "                                                                 \n",
            " conv_pw_9_bn (BatchNormaliz  (None, 14, 14, 512)      2048      \n",
            " ation)                                                          \n",
            "                                                                 \n",
            " conv_pw_9_relu (ReLU)       (None, 14, 14, 512)       0         \n",
            "                                                                 \n",
            " conv_dw_10 (DepthwiseConv2D  (None, 14, 14, 512)      4608      \n",
            " )                                                               \n",
            "                                                                 \n",
            " conv_dw_10_bn (BatchNormali  (None, 14, 14, 512)      2048      \n",
            " zation)                                                         \n",
            "                                                                 \n",
            " conv_dw_10_relu (ReLU)      (None, 14, 14, 512)       0         \n",
            "                                                                 \n",
            " conv_pw_10 (Conv2D)         (None, 14, 14, 512)       262144    \n",
            "                                                                 \n",
            " conv_pw_10_bn (BatchNormali  (None, 14, 14, 512)      2048      \n",
            " zation)                                                         \n",
            "                                                                 \n",
            " conv_pw_10_relu (ReLU)      (None, 14, 14, 512)       0         \n",
            "                                                                 \n",
            " conv_dw_11 (DepthwiseConv2D  (None, 14, 14, 512)      4608      \n",
            " )                                                               \n",
            "                                                                 \n",
            " conv_dw_11_bn (BatchNormali  (None, 14, 14, 512)      2048      \n",
            " zation)                                                         \n",
            "                                                                 \n",
            " conv_dw_11_relu (ReLU)      (None, 14, 14, 512)       0         \n",
            "                                                                 \n",
            " conv_pw_11 (Conv2D)         (None, 14, 14, 512)       262144    \n",
            "                                                                 \n",
            " conv_pw_11_bn (BatchNormali  (None, 14, 14, 512)      2048      \n",
            " zation)                                                         \n",
            "                                                                 \n",
            " conv_pw_11_relu (ReLU)      (None, 14, 14, 512)       0         \n",
            "                                                                 \n",
            " conv_pad_12 (ZeroPadding2D)  (None, 15, 15, 512)      0         \n",
            "                                                                 \n",
            " conv_dw_12 (DepthwiseConv2D  (None, 7, 7, 512)        4608      \n",
            " )                                                               \n",
            "                                                                 \n",
            " conv_dw_12_bn (BatchNormali  (None, 7, 7, 512)        2048      \n",
            " zation)                                                         \n",
            "                                                                 \n",
            " conv_dw_12_relu (ReLU)      (None, 7, 7, 512)         0         \n",
            "                                                                 \n",
            " conv_pw_12 (Conv2D)         (None, 7, 7, 1024)        524288    \n",
            "                                                                 \n",
            " conv_pw_12_bn (BatchNormali  (None, 7, 7, 1024)       4096      \n",
            " zation)                                                         \n",
            "                                                                 \n",
            " conv_pw_12_relu (ReLU)      (None, 7, 7, 1024)        0         \n",
            "                                                                 \n",
            " conv_dw_13 (DepthwiseConv2D  (None, 7, 7, 1024)       9216      \n",
            " )                                                               \n",
            "                                                                 \n",
            " conv_dw_13_bn (BatchNormali  (None, 7, 7, 1024)       4096      \n",
            " zation)                                                         \n",
            "                                                                 \n",
            " conv_dw_13_relu (ReLU)      (None, 7, 7, 1024)        0         \n",
            "                                                                 \n",
            " conv_pw_13 (Conv2D)         (None, 7, 7, 1024)        1048576   \n",
            "                                                                 \n",
            " conv_pw_13_bn (BatchNormali  (None, 7, 7, 1024)       4096      \n",
            " zation)                                                         \n",
            "                                                                 \n",
            " conv_pw_13_relu (ReLU)      (None, 7, 7, 1024)        0         \n",
            "                                                                 \n",
            "=================================================================\n",
            "Total params: 3,228,864\n",
            "Trainable params: 0\n",
            "Non-trainable params: 3,228,864\n",
            "_________________________________________________________________\n"
          ]
        }
      ]
    },
    {
      "cell_type": "code",
      "source": [
        "model.compile(optimizer='rmsprop',loss=keras.losses.binary_crossentropy, metrics=['accuracy'])"
      ],
      "metadata": {
        "id": "2SZkhfsFbDaI"
      },
      "execution_count": 62,
      "outputs": []
    },
    {
      "cell_type": "code",
      "source": [
        "#call back\n",
        "from keras.callbacks import ModelCheckpoint, EarlyStopping\n",
        "#model check point\n",
        "mc=ModelCheckpoint(filepath=\"/content/drive/MyDrive/Thesis work/bemodel.h5\",monitor='val_accuracy',verbose=1, save_best_only=True)\n",
        "# Early Stopping\n",
        "es=EarlyStopping(monitor='val_accuracy',min_delta=0.01,patience=8, verbose=1)\n",
        "cb=[mc,es]"
      ],
      "metadata": {
        "id": "lVq8FddNbJbb"
      },
      "execution_count": 63,
      "outputs": []
    },
    {
      "cell_type": "code",
      "source": [
        "hist=model.fit_generator(train_data,\n",
        "                         steps_per_epoch=8,\n",
        "                         epochs=50,\n",
        "                         validation_data=val_data,\n",
        "                         validation_steps=16,\n",
        "                         callbacks=cb)"
      ],
      "metadata": {
        "id": "h2P2YryibMqU"
      },
      "execution_count": null,
      "outputs": []
    }
  ]
}